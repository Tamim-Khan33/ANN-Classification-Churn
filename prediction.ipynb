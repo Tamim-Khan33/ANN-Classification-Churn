{
 "cells": [
  {
   "cell_type": "code",
   "execution_count": 1,
   "id": "22a99cc5",
   "metadata": {},
   "outputs": [
    {
     "name": "stdout",
     "output_type": "stream",
     "text": [
      "WARNING:tensorflow:From c:\\Users\\Hp\\PycharmProjects\\ANN-Regration\\venv\\Lib\\site-packages\\keras\\src\\losses.py:2976: The name tf.losses.sparse_softmax_cross_entropy is deprecated. Please use tf.compat.v1.losses.sparse_softmax_cross_entropy instead.\n",
      "\n",
      "WARNING:tensorflow:From c:\\Users\\Hp\\PycharmProjects\\ANN-Regration\\venv\\Lib\\site-packages\\keras\\src\\backend.py:1398: The name tf.executing_eagerly_outside_functions is deprecated. Please use tf.compat.v1.executing_eagerly_outside_functions instead.\n",
      "\n",
      "   CreditScore  Gender  Age  Tenure  Balance  NumOfProducts  HasCrCard  \\\n",
      "0          600       1   40       3    60000              2          1   \n",
      "\n",
      "   IsActiveMember  EstimatedSalary  Geography_France  Geography_Germany  \\\n",
      "0               1            50000               1.0                0.0   \n",
      "\n",
      "   Geography_Spain  \n",
      "0              0.0  \n",
      "[[-0.55012981  0.89091075  0.12136034 -0.68041201 -0.28051905  0.84584804\n",
      "   0.62670381  0.968496   -0.91572441  1.00400803 -0.57427105 -0.58350885]]\n",
      "1/1 [==============================] - 0s 83ms/step\n",
      "0.032886375\n",
      "the customer won't churn \n"
     ]
    },
    {
     "name": "stderr",
     "output_type": "stream",
     "text": [
      "c:\\Users\\Hp\\PycharmProjects\\ANN-Regration\\venv\\Lib\\site-packages\\sklearn\\utils\\validation.py:2749: UserWarning: X does not have valid feature names, but OneHotEncoder was fitted with feature names\n",
      "  warnings.warn(\n"
     ]
    }
   ],
   "source": [
    "import tensorflow as tf\n",
    "import tensorflow\n",
    "from tensorflow.keras.models import load_model\n",
    "import pandas as pd\n",
    "import pickle\n",
    "import numpy as np\n",
    "\n",
    "\"\"\"input data\"\"\"\n",
    "input_data={\n",
    "    'CreditScore':600,\n",
    "    'Geography':'France',\n",
    "    'Gender':'Male',\n",
    "    'Age':40,\n",
    "    'Tenure':3,\n",
    "    'Balance':60000,\n",
    "    'NumOfProducts':2,\n",
    "    'HasCrCard':1,\n",
    "    'IsActiveMember':1,\n",
    "    'EstimatedSalary':50000\n",
    "}\n",
    "\n",
    "\n",
    "\"\"\"Load the model,one hot encoding,scaling\"\"\"\n",
    "model=load_model('model.h5')\n",
    "with open('label_encoder_gender.pkl','rb') as file:\n",
    "    label_encoder_gender=pickle.load(file)\n",
    "\n",
    "\n",
    "with open('one_hot_geo.pkl','rb') as file:\n",
    "    one_hot_geo=pickle.load(file)\n",
    "\n",
    "with open('scaler.pkl','rb') as file:\n",
    "    scaler=pickle.load(file)\n",
    "\n",
    "\"\"\"one hot encode geo\"\"\"\n",
    "geo_encoded=one_hot_geo.transform([[input_data['Geography']]])\n",
    "geo_encoded_df=pd.DataFrame(geo_encoded,columns=one_hot_geo.get_feature_names_out(['Geography']))\n",
    "# print(geo_encoded_df)\n",
    "\n",
    "input_df=pd.DataFrame([input_data])\n",
    "# print(input_df)\n",
    "\"\"\"transform categorical values\"\"\"\n",
    "input_df['Gender']=label_encoder_gender.transform(input_df['Gender'])\n",
    "# print(input_df)\n",
    "\n",
    "##combine new data\n",
    "input_df=input_df.drop('Geography',axis=1)\n",
    "input_df=pd.concat([input_df,geo_encoded_df],axis=1)\n",
    "print(input_df)\n",
    "\n",
    "\"\"\"scaling the data\"\"\"\n",
    "input_scaled=scaler.transform(input_df)\n",
    "print(input_scaled)\n",
    "\n",
    "prediction=model.predict(input_scaled)\n",
    "prediction_probability=prediction[0][0]\n",
    "print(prediction_probability)\n",
    "if prediction_probability>0.5:\n",
    "    print(\"the customer will churn\")\n",
    "else:\n",
    "    print(\"the customer won't churn \")"
   ]
  }
 ],
 "metadata": {
  "kernelspec": {
   "display_name": "Python 3",
   "language": "python",
   "name": "python3"
  },
  "language_info": {
   "codemirror_mode": {
    "name": "ipython",
    "version": 3
   },
   "file_extension": ".py",
   "mimetype": "text/x-python",
   "name": "python",
   "nbconvert_exporter": "python",
   "pygments_lexer": "ipython3",
   "version": "3.11.0"
  }
 },
 "nbformat": 4,
 "nbformat_minor": 5
}
